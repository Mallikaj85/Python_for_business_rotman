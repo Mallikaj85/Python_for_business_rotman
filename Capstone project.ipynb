{
 "cells": [
  {
   "cell_type": "code",
   "execution_count": 28,
   "id": "powered-memorial",
   "metadata": {},
   "outputs": [],
   "source": [
    "# Import libraries\n",
    "import pandas as pd\n",
    "import numpy as np\n",
    "import matplotlib.pyplot as plt"
   ]
  },
  {
   "cell_type": "markdown",
   "id": "external-louis",
   "metadata": {},
   "source": [
    "### A. Basic Data Cleaning\n",
    "1. Read the file \"Bank.csv\", assign it a variable name \"df\" and display the first 5 lines. "
   ]
  },
  {
   "cell_type": "code",
   "execution_count": 30,
   "id": "peripheral-breakdown",
   "metadata": {},
   "outputs": [],
   "source": [
    "# Import dataset\n",
    "bank = pd.read_csv(\"Bank.csv\")"
   ]
  },
  {
   "cell_type": "markdown",
   "id": "criminal-tribute",
   "metadata": {},
   "source": [
    "2. Use `info` method to examine the data."
   ]
  },
  {
   "cell_type": "markdown",
   "id": "local-services",
   "metadata": {},
   "source": [
    "3. The values of column \"CCAvg\" is numeric but is stored as an object. Convert this column to numeric datatype."
   ]
  },
  {
   "cell_type": "markdown",
   "id": "adult-reduction",
   "metadata": {},
   "source": [
    "4. Obtain summary stats of all numeric columns."
   ]
  },
  {
   "cell_type": "code",
   "execution_count": null,
   "id": "02bad60d",
   "metadata": {},
   "outputs": [],
   "source": []
  },
  {
   "cell_type": "code",
   "execution_count": null,
   "id": "passive-exposure",
   "metadata": {},
   "outputs": [],
   "source": []
  },
  {
   "cell_type": "markdown",
   "id": "planned-dietary",
   "metadata": {},
   "source": [
    "5. Do the statistical summaries makes sense for all columns? If not, for which columns does it not make sense? Convert the data type of these columns to `category`. Then, run the method `describe` on categorical columns only."
   ]
  },
  {
   "cell_type": "code",
   "execution_count": null,
   "id": "excellent-valuable",
   "metadata": {},
   "outputs": [],
   "source": []
  },
  {
   "cell_type": "code",
   "execution_count": null,
   "id": "editorial-schema",
   "metadata": {},
   "outputs": [],
   "source": []
  },
  {
   "cell_type": "markdown",
   "id": "loving-chrome",
   "metadata": {},
   "source": [
    "6. Check the frequency of unique values in column \"Advisor Designation\"."
   ]
  },
  {
   "cell_type": "code",
   "execution_count": null,
   "id": "worst-abuse",
   "metadata": {},
   "outputs": [],
   "source": []
  },
  {
   "cell_type": "markdown",
   "id": "gorgeous-lambda",
   "metadata": {},
   "source": [
    "7. Create a new column called \"CFP\", whose value is 1 if \"Advisor Designation\" column has value \"CFP\"  otherwise the value is 0. This is one way of creating dummy variable. Hint: Utilize `np.where` method. "
   ]
  },
  {
   "cell_type": "code",
   "execution_count": null,
   "id": "iraqi-person",
   "metadata": {},
   "outputs": [],
   "source": []
  },
  {
   "cell_type": "markdown",
   "id": "peripheral-reality",
   "metadata": {},
   "source": [
    "8. Convert the datatype of columns with textual values to string."
   ]
  },
  {
   "cell_type": "code",
   "execution_count": null,
   "id": "private-shirt",
   "metadata": {},
   "outputs": [],
   "source": []
  },
  {
   "cell_type": "markdown",
   "id": "annual-command",
   "metadata": {},
   "source": [
    "9. Notice that \"Advisor Branch Addresses\" column has multiple addresses. Expand the column such that each address is in a new column. Add these columns to the dataframe with appropriate name."
   ]
  },
  {
   "cell_type": "code",
   "execution_count": null,
   "id": "beautiful-intranet",
   "metadata": {},
   "outputs": [],
   "source": []
  },
  {
   "cell_type": "markdown",
   "id": "liberal-terry",
   "metadata": {},
   "source": [
    "10. Drop all original columns that now have duplicate information."
   ]
  },
  {
   "cell_type": "code",
   "execution_count": null,
   "id": "primary-point",
   "metadata": {},
   "outputs": [],
   "source": []
  },
  {
   "cell_type": "markdown",
   "id": "undefined-workstation",
   "metadata": {},
   "source": [
    "### B. Visual Data Exploration\n",
    "\n",
    "Where applicable, please complete the codes provided by replacing items inside `<< >> `with appropriate code.\n",
    "\n",
    "1. Create a box plot of \"Age\" column. Hint: Use `boxplot` method from `matplotlib` library. Also add title and axis labels using `title`, `xlabel` and `ylabel` mathods.Use `show` method to display the plot. "
   ]
  },
  {
   "cell_type": "code",
   "execution_count": null,
   "id": "original-thursday",
   "metadata": {},
   "outputs": [],
   "source": [
    "plt.boxplot(<<INSERT OBJECT TO PLOT HERE>>) \n",
    "plt.title(<<INSERT PLOT TITLE>>)\n",
    "plt.ylabel(<<INSERT LABEL FOR Y-AXIS>>)\n",
    "plt.xlabel(<<INSERT LABEL FOR X-AXIS>>)\n",
    "plt.show()"
   ]
  },
  {
   "cell_type": "markdown",
   "id": "nonprofit-blond",
   "metadata": {},
   "source": [
    "2. Create a histogram of \"Income\" column. Set value of parameter `bins` to 50. Give title and axis labels to the figure. Use `show` method to diplay the plot. "
   ]
  },
  {
   "cell_type": "code",
   "execution_count": null,
   "id": "increasing-zambia",
   "metadata": {},
   "outputs": [],
   "source": [
    "plt.hist(<<INSERT OBJECT TO PLOT HERE>>, bins=<<INSERT NUMBER OF BINS>>)\n",
    "plt.title(<<INSERT PLOT TITLE>>)\n",
    "plt.ylabel(<<INSERT LABEL FOR Y-AXIS>>)\n",
    "plt.xlabel(<<INSERT LABEL FOR X-AXIS>>)\n",
    "plt.show()"
   ]
  },
  {
   "cell_type": "markdown",
   "id": "japanese-hierarchy",
   "metadata": {},
   "source": [
    "3. Create a bar plot that shows the number of customers who have banked online. "
   ]
  },
  {
   "cell_type": "code",
   "execution_count": null,
   "id": "solved-coral",
   "metadata": {},
   "outputs": [],
   "source": [
    "df[<<INSERT COLUMN NAME HERE>>].value_counts().plot(kind=<<INSERT TYPE OF PLOT>>)\n",
    "plt.title(<<INSERT PLOT TITLE>>)\n",
    "plt.ylabel(<<INSERT LABEL FOR Y-AXIS>>)\n",
    "plt.xlabel(<<INSERT LABEL FOR X-AXIS>>)\n",
    "plt.show()"
   ]
  },
  {
   "cell_type": "markdown",
   "id": "played-conference",
   "metadata": {},
   "source": [
    "The bank's main goal is to convert lenders into borrowers. For that, most of the analysis should be focused on identifying the differences between lenders and borrowers. \n",
    "\n",
    "4. Using `groupby` method, explore the make-up of customer with personal loan and GIC"
   ]
  },
  {
   "cell_type": "code",
   "execution_count": null,
   "id": "vertical-capacity",
   "metadata": {
    "scrolled": true
   },
   "outputs": [],
   "source": []
  },
  {
   "cell_type": "markdown",
   "id": "broke-denmark",
   "metadata": {},
   "source": [
    "5. Now take a look at how many customers accepted last campaign by age."
   ]
  },
  {
   "cell_type": "code",
   "execution_count": null,
   "id": "mental-mirror",
   "metadata": {},
   "outputs": [],
   "source": [
    "df[<<INSERT COLUMN NAMES HERE>>].boxplot(by='Age')\n",
    "plt.title(<<INSERT PLOT TITLE>>)\n",
    "plt.ylabel(<<INSERT LABEL FOR Y-AXIS>>)\n",
    "plt.xlabel(<<INSERT LABEL FOR X-AXIS>>)\n",
    "plt.show()"
   ]
  },
  {
   "cell_type": "markdown",
   "id": "contemporary-academy",
   "metadata": {},
   "source": [
    "6. Finally, take a look at how many customer accepted last campaign by their income level. "
   ]
  },
  {
   "cell_type": "code",
   "execution_count": null,
   "id": "facial-bahamas",
   "metadata": {},
   "outputs": [],
   "source": [
    "df[<<INSERT COLUMN NAMES HERE>>].boxplot(by=<<INSERT COLUMN NAME HERE>>)\n",
    "plt.title(<<INSERT PLOT TITLE>>)\n",
    "plt.ylabel(<<INSERT LABEL FOR Y-AXIS>>)\n",
    "plt.xlabel(<<INSERT LABEL FOR X-AXIS>>)\n",
    "plt.show()"
   ]
  },
  {
   "cell_type": "markdown",
   "id": "extraordinary-alaska",
   "metadata": {},
   "source": [
    "7. Create a plot to visualize customer's income distribution for groups who accepted the campaign against those who did not. Hint: look up `density` plot."
   ]
  },
  {
   "cell_type": "code",
   "execution_count": null,
   "id": "frozen-literature",
   "metadata": {},
   "outputs": [],
   "source": [
    "df.loc[<<INSERT LOGICAL EXPRESSION HERE>>,'Income'].plot(kind='kde', legend=True, label='Unsuccessful')\n",
    "df.loc[<<INSERT LOGICAL EXPRESSION HERE>>,'Income'].plot(kind='kde', legend=True, label='Successful')\n",
    "plt.title(<<INSERT PLOT TITLE>>)\n",
    "plt.xlabel(<<INSERT LABEL FOR X-AXIS>>)\n",
    "plt.show()"
   ]
  },
  {
   "cell_type": "markdown",
   "id": "frequent-copper",
   "metadata": {},
   "source": [
    "8. Create a boxplot of average spending on credit card per month grouped by customer who accepted and did not accept personal loan campaigns."
   ]
  },
  {
   "cell_type": "code",
   "execution_count": null,
   "id": "female-setup",
   "metadata": {},
   "outputs": [],
   "source": [
    "df[<<INSERT COLUMN NAMES HERE>>].boxplot(by=<<INSERT COLUMN NAME HERE>>)\n",
    "plt.title(<<INSERT PLOT TITLE>>)\n",
    "plt.ylabel(<<INSERT LABEL FOR Y-AXIS>>)\n",
    "plt.xlabel(<<INSERT LABEL FOR X-AXIS>>)\n",
    "plt.show()"
   ]
  },
  {
   "cell_type": "markdown",
   "id": "passive-mistake",
   "metadata": {},
   "source": [
    "### C. Business Analytics\n",
    "\n",
    "1. How would you define a successful financial advisor? Based on that description, create a KPI \"conversion rate\". Who are your top 10 most successful financial advisors?"
   ]
  },
  {
   "cell_type": "code",
   "execution_count": null,
   "id": "russian-tulsa",
   "metadata": {},
   "outputs": [],
   "source": []
  },
  {
   "cell_type": "markdown",
   "id": "frozen-withdrawal",
   "metadata": {},
   "source": [
    "2. Perform additional analysis to help you figure out which clients are most likely to convert on personal loan and which financial advisor should be allocated to convert them. "
   ]
  },
  {
   "cell_type": "code",
   "execution_count": null,
   "id": "running-portuguese",
   "metadata": {},
   "outputs": [],
   "source": []
  }
 ],
 "metadata": {
  "kernelspec": {
   "display_name": "Python 3",
   "language": "python",
   "name": "python3"
  },
  "language_info": {
   "codemirror_mode": {
    "name": "ipython",
    "version": 3
   },
   "file_extension": ".py",
   "mimetype": "text/x-python",
   "name": "python",
   "nbconvert_exporter": "python",
   "pygments_lexer": "ipython3",
   "version": "3.8.8"
  }
 },
 "nbformat": 4,
 "nbformat_minor": 5
}
