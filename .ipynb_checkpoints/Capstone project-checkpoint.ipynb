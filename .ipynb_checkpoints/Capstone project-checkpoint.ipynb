{
 "cells": [
  {
   "cell_type": "code",
   "execution_count": 1,
   "id": "powered-memorial",
   "metadata": {},
   "outputs": [],
   "source": [
    "import pandas as pd\n",
    "import numpy as np\n",
    "from matplotlib import pyplot as plt"
   ]
  },
  {
   "cell_type": "markdown",
   "id": "external-louis",
   "metadata": {},
   "source": [
    "### A. Basic Data Cleaning\n",
    "1. Read the file \"Bank.csv\", assign it a variable name \"df\" and display the first 5 lines. "
   ]
  },
  {
   "cell_type": "code",
   "execution_count": 4,
   "id": "peripheral-breakdown",
   "metadata": {},
   "outputs": [],
   "source": [
    "# Import dataset\n",
    "bank = pd.read_csv(\"Bank.csv\")"
   ]
  },
  {
   "cell_type": "markdown",
   "id": "criminal-tribute",
   "metadata": {},
   "source": [
    "2. Use `info` method to examine the data."
   ]
  },
  {
   "cell_type": "code",
   "execution_count": 5,
   "id": "governing-sleeve",
   "metadata": {},
   "outputs": [
    {
     "data": {
      "text/html": [
       "<div>\n",
       "<style scoped>\n",
       "    .dataframe tbody tr th:only-of-type {\n",
       "        vertical-align: middle;\n",
       "    }\n",
       "\n",
       "    .dataframe tbody tr th {\n",
       "        vertical-align: top;\n",
       "    }\n",
       "\n",
       "    .dataframe thead th {\n",
       "        text-align: right;\n",
       "    }\n",
       "</style>\n",
       "<table border=\"1\" class=\"dataframe\">\n",
       "  <thead>\n",
       "    <tr style=\"text-align: right;\">\n",
       "      <th></th>\n",
       "      <th>Age</th>\n",
       "      <th>Experience</th>\n",
       "      <th>Income</th>\n",
       "      <th>Branch Address</th>\n",
       "      <th>Family</th>\n",
       "      <th>CCAvg</th>\n",
       "      <th>Mortgage</th>\n",
       "      <th>Personal Loan</th>\n",
       "      <th>Brokerage Account</th>\n",
       "      <th>GIC Account</th>\n",
       "      <th>Online</th>\n",
       "      <th>CreditCard</th>\n",
       "      <th>Advisor Name</th>\n",
       "      <th>Advisor Designation</th>\n",
       "      <th>Advisor Branch Addresses</th>\n",
       "    </tr>\n",
       "  </thead>\n",
       "  <tbody>\n",
       "    <tr>\n",
       "      <th>0</th>\n",
       "      <td>50</td>\n",
       "      <td>24</td>\n",
       "      <td>11</td>\n",
       "      <td>234 Blue Spring Rd.</td>\n",
       "      <td>4</td>\n",
       "      <td>0.6</td>\n",
       "      <td>0</td>\n",
       "      <td>0</td>\n",
       "      <td>0</td>\n",
       "      <td>0</td>\n",
       "      <td>0</td>\n",
       "      <td>1</td>\n",
       "      <td>Carolin Whitmire</td>\n",
       "      <td>PFP</td>\n",
       "      <td>234 Blue Spring Rd.;533 Hillcrest Street;94 Co...</td>\n",
       "    </tr>\n",
       "    <tr>\n",
       "      <th>1</th>\n",
       "      <td>31</td>\n",
       "      <td>7</td>\n",
       "      <td>173</td>\n",
       "      <td>218 S. Westport Court</td>\n",
       "      <td>1</td>\n",
       "      <td>6</td>\n",
       "      <td>0</td>\n",
       "      <td>0</td>\n",
       "      <td>0</td>\n",
       "      <td>0</td>\n",
       "      <td>1</td>\n",
       "      <td>0</td>\n",
       "      <td>Marylee Bristow</td>\n",
       "      <td>PFP</td>\n",
       "      <td>218 S. Westport Court;9587 SW. Jefferson Stree...</td>\n",
       "    </tr>\n",
       "    <tr>\n",
       "      <th>2</th>\n",
       "      <td>41</td>\n",
       "      <td>16</td>\n",
       "      <td>10</td>\n",
       "      <td>9834 East Pineknoll Ave.</td>\n",
       "      <td>2</td>\n",
       "      <td>0.3</td>\n",
       "      <td>0</td>\n",
       "      <td>0</td>\n",
       "      <td>0</td>\n",
       "      <td>0</td>\n",
       "      <td>1</td>\n",
       "      <td>0</td>\n",
       "      <td>Corazon Eastin</td>\n",
       "      <td>PFP</td>\n",
       "      <td>336 Pin Oak Ave.;9834 East Pineknoll Ave.;742 ...</td>\n",
       "    </tr>\n",
       "    <tr>\n",
       "      <th>3</th>\n",
       "      <td>53</td>\n",
       "      <td>27</td>\n",
       "      <td>44</td>\n",
       "      <td>7330 West Grand St.</td>\n",
       "      <td>4</td>\n",
       "      <td>1.5</td>\n",
       "      <td>0</td>\n",
       "      <td>0</td>\n",
       "      <td>0</td>\n",
       "      <td>0</td>\n",
       "      <td>0</td>\n",
       "      <td>0</td>\n",
       "      <td>Beatriz Rolf</td>\n",
       "      <td>PFP</td>\n",
       "      <td>7330 West Grand St.;91 Lake Court;7041 East Ma...</td>\n",
       "    </tr>\n",
       "    <tr>\n",
       "      <th>4</th>\n",
       "      <td>29</td>\n",
       "      <td>5</td>\n",
       "      <td>33</td>\n",
       "      <td>36 Kent Court</td>\n",
       "      <td>1</td>\n",
       "      <td>1.8</td>\n",
       "      <td>78</td>\n",
       "      <td>0</td>\n",
       "      <td>0</td>\n",
       "      <td>0</td>\n",
       "      <td>1</td>\n",
       "      <td>0</td>\n",
       "      <td>Zofia Rambo</td>\n",
       "      <td>PFP</td>\n",
       "      <td>40 E. Dunbar Ave.;36 Kent Court;69 Spruce Dr.</td>\n",
       "    </tr>\n",
       "  </tbody>\n",
       "</table>\n",
       "</div>"
      ],
      "text/plain": [
       "   Age  Experience  Income            Branch Address  Family CCAvg  Mortgage  \\\n",
       "0   50          24      11       234 Blue Spring Rd.       4   0.6         0   \n",
       "1   31           7     173     218 S. Westport Court       1     6         0   \n",
       "2   41          16      10  9834 East Pineknoll Ave.       2   0.3         0   \n",
       "3   53          27      44       7330 West Grand St.       4   1.5         0   \n",
       "4   29           5      33             36 Kent Court       1   1.8        78   \n",
       "\n",
       "   Personal Loan  Brokerage Account  GIC Account  Online  CreditCard  \\\n",
       "0              0                  0            0       0           1   \n",
       "1              0                  0            0       1           0   \n",
       "2              0                  0            0       1           0   \n",
       "3              0                  0            0       0           0   \n",
       "4              0                  0            0       1           0   \n",
       "\n",
       "       Advisor Name Advisor Designation  \\\n",
       "0  Carolin Whitmire                 PFP   \n",
       "1   Marylee Bristow                 PFP   \n",
       "2    Corazon Eastin                 PFP   \n",
       "3      Beatriz Rolf                 PFP   \n",
       "4       Zofia Rambo                 PFP   \n",
       "\n",
       "                            Advisor Branch Addresses  \n",
       "0  234 Blue Spring Rd.;533 Hillcrest Street;94 Co...  \n",
       "1  218 S. Westport Court;9587 SW. Jefferson Stree...  \n",
       "2  336 Pin Oak Ave.;9834 East Pineknoll Ave.;742 ...  \n",
       "3  7330 West Grand St.;91 Lake Court;7041 East Ma...  \n",
       "4      40 E. Dunbar Ave.;36 Kent Court;69 Spruce Dr.  "
      ]
     },
     "execution_count": 5,
     "metadata": {},
     "output_type": "execute_result"
    }
   ],
   "source": [
    "bank.shape # ensure rows (number of customers) and columns (number of variables) are correct\n",
    "bank.head() # look at data"
   ]
  },
  {
   "cell_type": "markdown",
   "id": "local-services",
   "metadata": {},
   "source": [
    "3. The values of column \"CCAvg\" is numeric but is stored as an object. Convert this column to numeric datatype."
   ]
  },
  {
   "cell_type": "code",
   "execution_count": 6,
   "id": "7ff7f3ae",
   "metadata": {},
   "outputs": [
    {
     "name": "stdout",
     "output_type": "stream",
     "text": [
      "<class 'pandas.core.frame.DataFrame'>\n",
      "RangeIndex: 4499 entries, 0 to 4498\n",
      "Data columns (total 15 columns):\n",
      " #   Column                    Non-Null Count  Dtype \n",
      "---  ------                    --------------  ----- \n",
      " 0   Age                       4499 non-null   int64 \n",
      " 1   Experience                4499 non-null   int64 \n",
      " 2   Income                    4499 non-null   int64 \n",
      " 3   Branch Address            4499 non-null   object\n",
      " 4   Family                    4499 non-null   int64 \n",
      " 5   CCAvg                     4499 non-null   object\n",
      " 6   Mortgage                  4499 non-null   int64 \n",
      " 7   Personal Loan             4499 non-null   int64 \n",
      " 8   Brokerage Account         4499 non-null   int64 \n",
      " 9   GIC Account               4499 non-null   int64 \n",
      " 10  Online                    4499 non-null   int64 \n",
      " 11  CreditCard                4499 non-null   int64 \n",
      " 12  Advisor Name              4499 non-null   object\n",
      " 13  Advisor Designation       4499 non-null   object\n",
      " 14  Advisor Branch Addresses  4499 non-null   object\n",
      "dtypes: int64(10), object(5)\n",
      "memory usage: 527.4+ KB\n"
     ]
    }
   ],
   "source": [
    "bank.info() # ensure no missing values, look at data types\n",
    "# Issue: CCAvg should be an float\n"
   ]
  },
  {
   "cell_type": "code",
   "execution_count": 7,
   "id": "catholic-bangkok",
   "metadata": {},
   "outputs": [
    {
     "data": {
      "text/html": [
       "<div>\n",
       "<style scoped>\n",
       "    .dataframe tbody tr th:only-of-type {\n",
       "        vertical-align: middle;\n",
       "    }\n",
       "\n",
       "    .dataframe tbody tr th {\n",
       "        vertical-align: top;\n",
       "    }\n",
       "\n",
       "    .dataframe thead th {\n",
       "        text-align: right;\n",
       "    }\n",
       "</style>\n",
       "<table border=\"1\" class=\"dataframe\">\n",
       "  <thead>\n",
       "    <tr style=\"text-align: right;\">\n",
       "      <th></th>\n",
       "      <th>Age</th>\n",
       "      <th>Experience</th>\n",
       "      <th>Income</th>\n",
       "      <th>Family</th>\n",
       "      <th>Mortgage</th>\n",
       "      <th>Personal Loan</th>\n",
       "      <th>Brokerage Account</th>\n",
       "      <th>GIC Account</th>\n",
       "      <th>Online</th>\n",
       "      <th>CreditCard</th>\n",
       "    </tr>\n",
       "  </thead>\n",
       "  <tbody>\n",
       "    <tr>\n",
       "      <th>count</th>\n",
       "      <td>4499.000000</td>\n",
       "      <td>4499.000000</td>\n",
       "      <td>4499.000000</td>\n",
       "      <td>4499.000000</td>\n",
       "      <td>4499.000000</td>\n",
       "      <td>4499.000000</td>\n",
       "      <td>4499.000000</td>\n",
       "      <td>4499.000000</td>\n",
       "      <td>4499.000000</td>\n",
       "      <td>4499.000000</td>\n",
       "    </tr>\n",
       "    <tr>\n",
       "      <th>mean</th>\n",
       "      <td>45.268282</td>\n",
       "      <td>20.028895</td>\n",
       "      <td>74.303401</td>\n",
       "      <td>2.398088</td>\n",
       "      <td>56.085575</td>\n",
       "      <td>0.106690</td>\n",
       "      <td>0.108691</td>\n",
       "      <td>0.064903</td>\n",
       "      <td>0.592132</td>\n",
       "      <td>0.296733</td>\n",
       "    </tr>\n",
       "    <tr>\n",
       "      <th>std</th>\n",
       "      <td>11.454680</td>\n",
       "      <td>11.461481</td>\n",
       "      <td>46.310561</td>\n",
       "      <td>1.147040</td>\n",
       "      <td>101.788264</td>\n",
       "      <td>0.308754</td>\n",
       "      <td>0.311286</td>\n",
       "      <td>0.246383</td>\n",
       "      <td>0.491493</td>\n",
       "      <td>0.456868</td>\n",
       "    </tr>\n",
       "    <tr>\n",
       "      <th>min</th>\n",
       "      <td>23.000000</td>\n",
       "      <td>-3.000000</td>\n",
       "      <td>8.000000</td>\n",
       "      <td>1.000000</td>\n",
       "      <td>0.000000</td>\n",
       "      <td>0.000000</td>\n",
       "      <td>0.000000</td>\n",
       "      <td>0.000000</td>\n",
       "      <td>0.000000</td>\n",
       "      <td>0.000000</td>\n",
       "    </tr>\n",
       "    <tr>\n",
       "      <th>25%</th>\n",
       "      <td>35.000000</td>\n",
       "      <td>10.000000</td>\n",
       "      <td>39.000000</td>\n",
       "      <td>1.000000</td>\n",
       "      <td>0.000000</td>\n",
       "      <td>0.000000</td>\n",
       "      <td>0.000000</td>\n",
       "      <td>0.000000</td>\n",
       "      <td>0.000000</td>\n",
       "      <td>0.000000</td>\n",
       "    </tr>\n",
       "    <tr>\n",
       "      <th>50%</th>\n",
       "      <td>45.000000</td>\n",
       "      <td>20.000000</td>\n",
       "      <td>64.000000</td>\n",
       "      <td>2.000000</td>\n",
       "      <td>0.000000</td>\n",
       "      <td>0.000000</td>\n",
       "      <td>0.000000</td>\n",
       "      <td>0.000000</td>\n",
       "      <td>1.000000</td>\n",
       "      <td>0.000000</td>\n",
       "    </tr>\n",
       "    <tr>\n",
       "      <th>75%</th>\n",
       "      <td>55.000000</td>\n",
       "      <td>30.000000</td>\n",
       "      <td>99.000000</td>\n",
       "      <td>3.000000</td>\n",
       "      <td>99.500000</td>\n",
       "      <td>0.000000</td>\n",
       "      <td>0.000000</td>\n",
       "      <td>0.000000</td>\n",
       "      <td>1.000000</td>\n",
       "      <td>1.000000</td>\n",
       "    </tr>\n",
       "    <tr>\n",
       "      <th>max</th>\n",
       "      <td>67.000000</td>\n",
       "      <td>43.000000</td>\n",
       "      <td>224.000000</td>\n",
       "      <td>4.000000</td>\n",
       "      <td>617.000000</td>\n",
       "      <td>1.000000</td>\n",
       "      <td>1.000000</td>\n",
       "      <td>1.000000</td>\n",
       "      <td>1.000000</td>\n",
       "      <td>1.000000</td>\n",
       "    </tr>\n",
       "  </tbody>\n",
       "</table>\n",
       "</div>"
      ],
      "text/plain": [
       "               Age   Experience       Income       Family     Mortgage  \\\n",
       "count  4499.000000  4499.000000  4499.000000  4499.000000  4499.000000   \n",
       "mean     45.268282    20.028895    74.303401     2.398088    56.085575   \n",
       "std      11.454680    11.461481    46.310561     1.147040   101.788264   \n",
       "min      23.000000    -3.000000     8.000000     1.000000     0.000000   \n",
       "25%      35.000000    10.000000    39.000000     1.000000     0.000000   \n",
       "50%      45.000000    20.000000    64.000000     2.000000     0.000000   \n",
       "75%      55.000000    30.000000    99.000000     3.000000    99.500000   \n",
       "max      67.000000    43.000000   224.000000     4.000000   617.000000   \n",
       "\n",
       "       Personal Loan  Brokerage Account  GIC Account       Online   CreditCard  \n",
       "count    4499.000000        4499.000000  4499.000000  4499.000000  4499.000000  \n",
       "mean        0.106690           0.108691     0.064903     0.592132     0.296733  \n",
       "std         0.308754           0.311286     0.246383     0.491493     0.456868  \n",
       "min         0.000000           0.000000     0.000000     0.000000     0.000000  \n",
       "25%         0.000000           0.000000     0.000000     0.000000     0.000000  \n",
       "50%         0.000000           0.000000     0.000000     1.000000     0.000000  \n",
       "75%         0.000000           0.000000     0.000000     1.000000     1.000000  \n",
       "max         1.000000           1.000000     1.000000     1.000000     1.000000  "
      ]
     },
     "execution_count": 7,
     "metadata": {},
     "output_type": "execute_result"
    }
   ],
   "source": [
    "bank.describe() \n",
    "# Issue: experience has an invalid minimum value (-3.00)"
   ]
  },
  {
   "cell_type": "code",
   "execution_count": 8,
   "id": "5bbf902f",
   "metadata": {},
   "outputs": [
    {
     "name": "stdout",
     "output_type": "stream",
     "text": [
      "Invalid: 2,00\n"
     ]
    }
   ],
   "source": [
    "# Convert 'CCAvg' to float, print value if not\n",
    "for obj in bank['CCAvg']:\n",
    "    try:\n",
    "        casted = float(obj)\n",
    "    except:\n",
    "        print('Invalid:', obj) # One invalid: Invalid: 2,00"
   ]
  },
  {
   "cell_type": "markdown",
   "id": "adult-reduction",
   "metadata": {},
   "source": [
    "4. Obtain summary stats of all numeric columns."
   ]
  },
  {
   "cell_type": "code",
   "execution_count": null,
   "id": "passive-exposure",
   "metadata": {},
   "outputs": [],
   "source": []
  },
  {
   "cell_type": "markdown",
   "id": "planned-dietary",
   "metadata": {},
   "source": [
    "5. Do the statistical summaries makes sense for all columns? If not, for which columns does it not make sense? Convert the data type of these columns to `category`. Then, run the method `describe` on categorical columns only."
   ]
  },
  {
   "cell_type": "code",
   "execution_count": null,
   "id": "excellent-valuable",
   "metadata": {},
   "outputs": [],
   "source": []
  },
  {
   "cell_type": "code",
   "execution_count": null,
   "id": "editorial-schema",
   "metadata": {},
   "outputs": [],
   "source": []
  },
  {
   "cell_type": "markdown",
   "id": "loving-chrome",
   "metadata": {},
   "source": [
    "6. Check the frequency of unique values in column \"Advisor Designation\"."
   ]
  },
  {
   "cell_type": "code",
   "execution_count": null,
   "id": "worst-abuse",
   "metadata": {},
   "outputs": [],
   "source": []
  },
  {
   "cell_type": "markdown",
   "id": "gorgeous-lambda",
   "metadata": {},
   "source": [
    "7. Create a new column called \"CFP\", whose value is 1 if \"Advisor Designation\" column has value \"CFP\"  otherwise the value is 0. This is one way of creating dummy variable. Hint: Utilize `np.where` method. "
   ]
  },
  {
   "cell_type": "code",
   "execution_count": null,
   "id": "iraqi-person",
   "metadata": {},
   "outputs": [],
   "source": []
  },
  {
   "cell_type": "markdown",
   "id": "peripheral-reality",
   "metadata": {},
   "source": [
    "8. Convert the datatype of columns with textual values to string."
   ]
  },
  {
   "cell_type": "code",
   "execution_count": null,
   "id": "private-shirt",
   "metadata": {},
   "outputs": [],
   "source": []
  },
  {
   "cell_type": "markdown",
   "id": "annual-command",
   "metadata": {},
   "source": [
    "9. Notice that \"Advisor Branch Addresses\" column has multiple addresses. Expand the column such that each address is in a new column. Add these columns to the dataframe with appropriate name."
   ]
  },
  {
   "cell_type": "code",
   "execution_count": null,
   "id": "beautiful-intranet",
   "metadata": {},
   "outputs": [],
   "source": []
  },
  {
   "cell_type": "markdown",
   "id": "liberal-terry",
   "metadata": {},
   "source": [
    "10. Drop all original columns that now have duplicate information."
   ]
  },
  {
   "cell_type": "code",
   "execution_count": null,
   "id": "primary-point",
   "metadata": {},
   "outputs": [],
   "source": []
  },
  {
   "cell_type": "markdown",
   "id": "undefined-workstation",
   "metadata": {},
   "source": [
    "### B. Visual Data Exploration\n",
    "\n",
    "Where applicable, please complete the codes provided by replacing items inside `<< >> `with appropriate code.\n",
    "\n",
    "1. Create a box plot of \"Age\" column. Hint: Use `boxplot` method from `matplotlib` library. Also add title and axis labels using `title`, `xlabel` and `ylabel` mathods.Use `show` method to display the plot. "
   ]
  },
  {
   "cell_type": "code",
   "execution_count": null,
   "id": "original-thursday",
   "metadata": {},
   "outputs": [],
   "source": [
    "plt.boxplot(<<INSERT OBJECT TO PLOT HERE>>) \n",
    "plt.title(<<INSERT PLOT TITLE>>)\n",
    "plt.ylabel(<<INSERT LABEL FOR Y-AXIS>>)\n",
    "plt.xlabel(<<INSERT LABEL FOR X-AXIS>>)\n",
    "plt.show()"
   ]
  },
  {
   "cell_type": "markdown",
   "id": "nonprofit-blond",
   "metadata": {},
   "source": [
    "2. Create a histogram of \"Income\" column. Set value of parameter `bins` to 50. Give title and axis labels to the figure. Use `show` method to diplay the plot. "
   ]
  },
  {
   "cell_type": "code",
   "execution_count": null,
   "id": "increasing-zambia",
   "metadata": {},
   "outputs": [],
   "source": [
    "plt.hist(<<INSERT OBJECT TO PLOT HERE>>, bins=<<INSERT NUMBER OF BINS>>)\n",
    "plt.title(<<INSERT PLOT TITLE>>)\n",
    "plt.ylabel(<<INSERT LABEL FOR Y-AXIS>>)\n",
    "plt.xlabel(<<INSERT LABEL FOR X-AXIS>>)\n",
    "plt.show()"
   ]
  },
  {
   "cell_type": "markdown",
   "id": "japanese-hierarchy",
   "metadata": {},
   "source": [
    "3. Create a bar plot that shows the number of customers who have banked online. "
   ]
  },
  {
   "cell_type": "code",
   "execution_count": null,
   "id": "solved-coral",
   "metadata": {},
   "outputs": [],
   "source": [
    "df[<<INSERT COLUMN NAME HERE>>].value_counts().plot(kind=<<INSERT TYPE OF PLOT>>)\n",
    "plt.title(<<INSERT PLOT TITLE>>)\n",
    "plt.ylabel(<<INSERT LABEL FOR Y-AXIS>>)\n",
    "plt.xlabel(<<INSERT LABEL FOR X-AXIS>>)\n",
    "plt.show()"
   ]
  },
  {
   "cell_type": "markdown",
   "id": "played-conference",
   "metadata": {},
   "source": [
    "The bank's main goal is to convert lenders into borrowers. For that, most of the analysis should be focused on identifying the differences between lenders and borrowers. \n",
    "\n",
    "4. Using `groupby` method, explore the make-up of customer with personal loan and GIC"
   ]
  },
  {
   "cell_type": "code",
   "execution_count": null,
   "id": "vertical-capacity",
   "metadata": {
    "scrolled": true
   },
   "outputs": [],
   "source": []
  },
  {
   "cell_type": "markdown",
   "id": "broke-denmark",
   "metadata": {},
   "source": [
    "5. Now take a look at how many customers accepted last campaign by age."
   ]
  },
  {
   "cell_type": "code",
   "execution_count": null,
   "id": "mental-mirror",
   "metadata": {},
   "outputs": [],
   "source": [
    "df[<<INSERT COLUMN NAMES HERE>>].boxplot(by='Age')\n",
    "plt.title(<<INSERT PLOT TITLE>>)\n",
    "plt.ylabel(<<INSERT LABEL FOR Y-AXIS>>)\n",
    "plt.xlabel(<<INSERT LABEL FOR X-AXIS>>)\n",
    "plt.show()"
   ]
  },
  {
   "cell_type": "markdown",
   "id": "contemporary-academy",
   "metadata": {},
   "source": [
    "6. Finally, take a look at how many customer accepted last campaign by their income level. "
   ]
  },
  {
   "cell_type": "code",
   "execution_count": null,
   "id": "facial-bahamas",
   "metadata": {},
   "outputs": [],
   "source": [
    "df[<<INSERT COLUMN NAMES HERE>>].boxplot(by=<<INSERT COLUMN NAME HERE>>)\n",
    "plt.title(<<INSERT PLOT TITLE>>)\n",
    "plt.ylabel(<<INSERT LABEL FOR Y-AXIS>>)\n",
    "plt.xlabel(<<INSERT LABEL FOR X-AXIS>>)\n",
    "plt.show()"
   ]
  },
  {
   "cell_type": "markdown",
   "id": "extraordinary-alaska",
   "metadata": {},
   "source": [
    "7. Create a plot to visualize customer's income distribution for groups who accepted the campaign against those who did not. Hint: look up `density` plot."
   ]
  },
  {
   "cell_type": "code",
   "execution_count": null,
   "id": "frozen-literature",
   "metadata": {},
   "outputs": [],
   "source": [
    "df.loc[<<INSERT LOGICAL EXPRESSION HERE>>,'Income'].plot(kind='kde', legend=True, label='Unsuccessful')\n",
    "df.loc[<<INSERT LOGICAL EXPRESSION HERE>>,'Income'].plot(kind='kde', legend=True, label='Successful')\n",
    "plt.title(<<INSERT PLOT TITLE>>)\n",
    "plt.xlabel(<<INSERT LABEL FOR X-AXIS>>)\n",
    "plt.show()"
   ]
  },
  {
   "cell_type": "markdown",
   "id": "frequent-copper",
   "metadata": {},
   "source": [
    "8. Create a boxplot of average spending on credit card per month grouped by customer who accepted and did not accept personal loan campaigns."
   ]
  },
  {
   "cell_type": "code",
   "execution_count": null,
   "id": "female-setup",
   "metadata": {},
   "outputs": [],
   "source": [
    "df[<<INSERT COLUMN NAMES HERE>>].boxplot(by=<<INSERT COLUMN NAME HERE>>)\n",
    "plt.title(<<INSERT PLOT TITLE>>)\n",
    "plt.ylabel(<<INSERT LABEL FOR Y-AXIS>>)\n",
    "plt.xlabel(<<INSERT LABEL FOR X-AXIS>>)\n",
    "plt.show()"
   ]
  },
  {
   "cell_type": "markdown",
   "id": "passive-mistake",
   "metadata": {},
   "source": [
    "### C. Business Analytics\n",
    "\n",
    "1. How would you define a successful financial advisor? Based on that description, create a KPI \"conversion rate\". Who are your top 10 most successful financial advisors?"
   ]
  },
  {
   "cell_type": "code",
   "execution_count": null,
   "id": "russian-tulsa",
   "metadata": {},
   "outputs": [],
   "source": []
  },
  {
   "cell_type": "markdown",
   "id": "frozen-withdrawal",
   "metadata": {},
   "source": [
    "2. Perform additional analysis to help you figure out which clients are most likely to convert on personal loan and which financial advisor should be allocated to convert them. "
   ]
  },
  {
   "cell_type": "code",
   "execution_count": null,
   "id": "running-portuguese",
   "metadata": {},
   "outputs": [],
   "source": []
  }
 ],
 "metadata": {
  "kernelspec": {
   "display_name": "Python 3",
   "language": "python",
   "name": "python3"
  },
  "language_info": {
   "codemirror_mode": {
    "name": "ipython",
    "version": 3
   },
   "file_extension": ".py",
   "mimetype": "text/x-python",
   "name": "python",
   "nbconvert_exporter": "python",
   "pygments_lexer": "ipython3",
   "version": "3.8.8"
  }
 },
 "nbformat": 4,
 "nbformat_minor": 5
}
